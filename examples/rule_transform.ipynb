{
 "cells": [
  {
   "cell_type": "code",
   "execution_count": 1,
   "metadata": {},
   "outputs": [
    {
     "name": "stderr",
     "output_type": "stream",
     "text": [
      "/home/omar/anaconda3/envs/rt1/lib/python3.6/site-packages/tslearn/bases/bases.py:15: UserWarning: h5py not installed, hdf5 features will not be supported.\n",
      "Install h5py to use hdf5 features: http://docs.h5py.org/\n",
      "  warn(h5py_msg)\n"
     ]
    }
   ],
   "source": [
    "import numpy as np\n",
    "import os\n",
    "from sklearn.ensemble import RandomForestClassifier\n",
    "\n",
    "from sklearn.metrics import accuracy_score\n",
    "from skfeature.function.similarity_based import fisher_score\n",
    "\n",
    "from ruletransform import ContractedRuleTransform\n",
    "from ruletransform.utils import get_shapelets_lengths_interval, get_indices\n",
    "from ruletransform.data_io import load_from_tsfile_to_dataframe"
   ]
  },
  {
   "cell_type": "markdown",
   "metadata": {},
   "source": [
    "# Load Dataset"
   ]
  },
  {
   "cell_type": "code",
   "execution_count": 2,
   "metadata": {},
   "outputs": [],
   "source": [
    "name = 'BasicMotions'\n",
    "\n",
    "X_train, y_train = load_from_tsfile_to_dataframe(\n",
    "    os.path.abspath(os.path.join('..', 'data', name, name + \"_TRAIN.ts\"))\n",
    ")\n",
    "X_test, y_test = load_from_tsfile_to_dataframe(\n",
    "        os.path.abspath(os.path.join('..', 'data', name, name + \"_TEST.ts\"))\n",
    "    )"
   ]
  },
  {
   "cell_type": "markdown",
   "metadata": {},
   "source": [
    "# Shapelet Length Selection"
   ]
  },
  {
   "cell_type": "code",
   "execution_count": 3,
   "metadata": {},
   "outputs": [],
   "source": [
    "min_length, max_length = get_shapelets_lengths_interval(X_train, y_train, total_time=2)"
   ]
  },
  {
   "cell_type": "markdown",
   "metadata": {},
   "source": [
    "## Fit and Transform Dataset"
   ]
  },
  {
   "cell_type": "code",
   "execution_count": null,
   "metadata": {},
   "outputs": [],
   "source": [
    "rt = ContractedRuleTransform(\n",
    "    shapelet_mining_contract=2,\n",
    "    rule_mining_contract=1,\n",
    "    min_shapelet_length=min_length,\n",
    "    max_shapelet_length=max_length,\n",
    "    verbose=0,\n",
    ")\n",
    "\n",
    "#Given the short mining contract, this example only uses the first two dimensions of the dataset\n",
    "rt.fit(X_train.iloc[:, 0:2], y_train)\n",
    "all_rules_counts, _, all_rules_shs = rt.transform(X_train.iloc[:, 0:2], test=False)\n",
    "all_rules_counts_test, _ = rt.transform(X_test.iloc[:, 0:2], test=True)"
   ]
  },
  {
   "cell_type": "markdown",
   "metadata": {},
   "source": [
    "## Rule Visualization"
   ]
  },
  {
   "cell_type": "code",
   "execution_count": null,
   "metadata": {},
   "outputs": [],
   "source": [
    "indices = get_indices(rt._transformer)"
   ]
  },
  {
   "cell_type": "code",
   "execution_count": null,
   "metadata": {},
   "outputs": [],
   "source": [
    "dim_1, sh_1, dim_2, sh_2 = all_rules_shs[0]\n",
    "idx_1, start_1, end_1 = indices[dim_1][sh_1]\n",
    "idx_2, start_2, end_2 = indices[dim_2][sh_2]"
   ]
  },
  {
   "cell_type": "code",
   "execution_count": null,
   "metadata": {},
   "outputs": [],
   "source": [
    "from ruletransform.sktime_convert import from_nested_to_3d_numpy\n",
    "from matplotlib import pyplot as plt\n",
    "\n",
    "X_train_ = from_nested_to_3d_numpy(X_train)"
   ]
  },
  {
   "cell_type": "code",
   "execution_count": null,
   "metadata": {},
   "outputs": [],
   "source": [
    "plt.figure(figsize=(12,8))\n",
    "\n",
    "\n",
    "plt.plot(X_train_[idx_1,dim_1], color='C{}'.format(0),\n",
    "          label='Shapelet: ' + str(dim_1) + ', Dim: ' + str(sh_1))\n",
    "plt.plot(np.arange(start_1, end_1), X_train_[idx_1, dim_1, start_1:end_1],\n",
    "          lw=5, color='C{}'.format(0))\n",
    "\n",
    "plt.plot(X_train_[idx_2,dim_2], color='C{}'.format(2),\n",
    "          label='Shapelet: ' + str(dim_2) + ', Dim: ' + str(sh_2))\n",
    "plt.plot(np.arange(start_2, end_2), X_train_[idx_2, dim_2, start_2:end_2],\n",
    "          lw=5, color='C{}'.format(2))\n",
    "\n",
    "plt.xlabel('Time', fontsize=12)\n",
    "plt.ylabel('Frequency', fontsize=12)\n",
    "plt.title(\"A precedes B\", fontsize=14)\n",
    "plt.legend(loc='best', fontsize=10)\n",
    "plt.show()"
   ]
  },
  {
   "cell_type": "markdown",
   "metadata": {},
   "source": [
    "## Rule Selection"
   ]
  },
  {
   "cell_type": "code",
   "execution_count": null,
   "metadata": {},
   "outputs": [],
   "source": [
    "#Percentage of rules to keep\n",
    "percentage = 20\n",
    "\n",
    "top_k = int(all_rules_counts.shape[1]*percentage/100)"
   ]
  },
  {
   "cell_type": "code",
   "execution_count": null,
   "metadata": {},
   "outputs": [],
   "source": [
    "#Indices of rules between inexistant shapelets (flagged -1 supports)\n",
    "to_delete = np.where(np.all(all_rules_counts==-1,axis=1))\n",
    "\n",
    "#Delete the -1 columns\n",
    "all_rules_counts = np.delete(all_rules_counts, to_delete, axis=0)\n",
    "all_rules_counts_test = np.delete(all_rules_counts_test, to_delete, axis=0)\n",
    "\n",
    " #Array to hold the support of each rule\n",
    "supports = np.zeros(all_rules_counts.shape[1], dtype=np.uint16)\n",
    "\n",
    "#Count and store the support of each rule\n",
    "for k in range(all_rules_counts.shape[1]):\n",
    "    supports[k]=all_rules_counts[:,k].sum()\n",
    "\n",
    "#Get indices of rules with highest support\n",
    "best_rules_indices = np.argsort(supports)[::-1][:top_k]\n",
    "\n",
    "#Get the best rules\n",
    "best_rules = all_rules_counts[:,best_rules_indices]\n",
    "best_rules_test = all_rules_counts_test[:,best_rules_indices] "
   ]
  },
  {
   "cell_type": "markdown",
   "metadata": {},
   "source": [
    "## Classification"
   ]
  },
  {
   "cell_type": "code",
   "execution_count": null,
   "metadata": {},
   "outputs": [],
   "source": [
    "#Fit and Transform a Random Forest Classifier\n",
    "clf = RandomForestClassifier(random_state=0, n_estimators=500)\n",
    "clf.fit(best_rules, y_train)\n",
    "y_pred = clf.predict(best_rules_test)"
   ]
  },
  {
   "cell_type": "code",
   "execution_count": null,
   "metadata": {},
   "outputs": [],
   "source": [
    "#Compute Test Accuracy\n",
    "print('The test accuracy is: ' + str(accuracy_score(y_test, y_pred)))"
   ]
  },
  {
   "cell_type": "markdown",
   "metadata": {},
   "source": [
    "# Rule Transform With Shapelet Clustering"
   ]
  },
  {
   "cell_type": "markdown",
   "metadata": {},
   "source": [
    "## Fit and Transform Dataset"
   ]
  },
  {
   "cell_type": "code",
   "execution_count": null,
   "metadata": {},
   "outputs": [],
   "source": [
    "rt = ContractedRuleTransform(\n",
    "    shapelet_mining_contract=2,\n",
    "    rule_mining_contract=1,\n",
    "    min_shapelet_length=min_length,\n",
    "    max_shapelet_length=max_length,\n",
    "    verbose=0,\n",
    "    clustering_ratio=80\n",
    ")\n",
    "\n",
    "rt.fit(X_train.iloc[:, 0:2], y_train)\n",
    "all_rules_counts, _, all_rules_shs = rt.transform(X_train.iloc[:, 0:2], test=False)\n",
    "all_rules_counts_test, _ = rt.transform(X_test.iloc[:, 0:2], test=True)"
   ]
  },
  {
   "cell_type": "markdown",
   "metadata": {},
   "source": [
    "## Classification"
   ]
  },
  {
   "cell_type": "code",
   "execution_count": null,
   "metadata": {},
   "outputs": [],
   "source": [
    "#Fit and Transform a Random Forest Classifier\n",
    "clf = RandomForestClassifier(random_state=0, n_estimators=500)\n",
    "clf.fit(all_rules_counts, y_train)\n",
    "y_pred = clf.predict(all_rules_counts_test)\n",
    "\n",
    "#Compute Test Accuracy\n",
    "print('The test accuracy is: ' + str(accuracy_score(y_test, y_pred)))"
   ]
  }
 ],
 "metadata": {
  "kernelspec": {
   "display_name": "Python 3 (ipykernel)",
   "language": "python",
   "name": "python3"
  },
  "language_info": {
   "codemirror_mode": {
    "name": "ipython",
    "version": 3
   },
   "file_extension": ".py",
   "mimetype": "text/x-python",
   "name": "python",
   "nbconvert_exporter": "python",
   "pygments_lexer": "ipython3",
   "version": "3.6.13"
  }
 },
 "nbformat": 4,
 "nbformat_minor": 4
}
