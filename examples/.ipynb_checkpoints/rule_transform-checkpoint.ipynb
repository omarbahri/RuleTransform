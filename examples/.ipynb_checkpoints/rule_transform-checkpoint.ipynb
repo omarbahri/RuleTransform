{
 "cells": [
  {
   "cell_type": "code",
   "execution_count": 19,
   "metadata": {},
   "outputs": [
    {
     "ename": "ImportError",
     "evalue": "cannot import name 'from_nested_to_3d_numpy' from 'ruletransform.data_io' (/home/omar/anaconda3/lib/python3.7/site-packages/ruletransform/data_io.py)",
     "output_type": "error",
     "traceback": [
      "\u001b[0;31m---------------------------------------------------------------------------\u001b[0m",
      "\u001b[0;31mImportError\u001b[0m                               Traceback (most recent call last)",
      "\u001b[0;32m<ipython-input-19-fa170d350f53>\u001b[0m in \u001b[0;36m<module>\u001b[0;34m\u001b[0m\n\u001b[1;32m      8\u001b[0m \u001b[0;32mfrom\u001b[0m \u001b[0mruletransform\u001b[0m \u001b[0;32mimport\u001b[0m \u001b[0mContractedRuleTransform\u001b[0m\u001b[0;34m\u001b[0m\u001b[0;34m\u001b[0m\u001b[0m\n\u001b[1;32m      9\u001b[0m \u001b[0;32mfrom\u001b[0m \u001b[0mruletransform\u001b[0m\u001b[0;34m.\u001b[0m\u001b[0mutils\u001b[0m \u001b[0;32mimport\u001b[0m \u001b[0mget_shapelets_lengths_interval\u001b[0m\u001b[0;34m,\u001b[0m \u001b[0mget_indices\u001b[0m\u001b[0;34m\u001b[0m\u001b[0;34m\u001b[0m\u001b[0m\n\u001b[0;32m---> 10\u001b[0;31m \u001b[0;32mfrom\u001b[0m \u001b[0mruletransform\u001b[0m\u001b[0;34m.\u001b[0m\u001b[0mdata_io\u001b[0m \u001b[0;32mimport\u001b[0m \u001b[0mload_from_tsfile_to_dataframe\u001b[0m\u001b[0;34m,\u001b[0m \u001b[0mfrom_nested_to_3d_numpy\u001b[0m\u001b[0;34m\u001b[0m\u001b[0;34m\u001b[0m\u001b[0m\n\u001b[0m",
      "\u001b[0;31mImportError\u001b[0m: cannot import name 'from_nested_to_3d_numpy' from 'ruletransform.data_io' (/home/omar/anaconda3/lib/python3.7/site-packages/ruletransform/data_io.py)"
     ]
    }
   ],
   "source": [
    "import numpy as np\n",
    "import os\n",
    "from sklearn.ensemble import RandomForestClassifier\n",
    "\n",
    "from sklearn.metrics import accuracy_score\n",
    "from skfeature.function.similarity_based import fisher_score\n",
    "\n",
    "from ruletransform import ContractedRuleTransform\n",
    "from ruletransform.utils import get_shapelets_lengths_interval, get_indices\n",
    "from ruletransform.data_io import load_from_tsfile_to_dataframe"
   ]
  },
  {
   "cell_type": "markdown",
   "metadata": {},
   "source": [
    "# Load Dataset"
   ]
  },
  {
   "cell_type": "code",
   "execution_count": 2,
   "metadata": {},
   "outputs": [],
   "source": [
    "name = 'BasicMotions'\n",
    "\n",
    "X_train, y_train = load_from_tsfile_to_dataframe(\n",
    "    os.path.abspath(os.path.join('..', 'data', name, name + \"_TRAIN.ts\"))\n",
    ")\n",
    "X_test, y_test = load_from_tsfile_to_dataframe(\n",
    "        os.path.abspath(os.path.join('..', 'data', name, name + \"_TEST.ts\"))\n",
    "    )"
   ]
  },
  {
   "cell_type": "markdown",
   "metadata": {},
   "source": [
    "# Shapelet Length Selection"
   ]
  },
  {
   "cell_type": "code",
   "execution_count": 3,
   "metadata": {},
   "outputs": [],
   "source": [
    "min_length, max_length = get_shapelets_lengths_interval(X_train, y_train, total_time=2)"
   ]
  },
  {
   "cell_type": "markdown",
   "metadata": {},
   "source": [
    "# Rule Transform Without Shapelet Clustering"
   ]
  },
  {
   "cell_type": "markdown",
   "metadata": {},
   "source": [
    "## Fit and Transform Dataset"
   ]
  },
  {
   "cell_type": "code",
   "execution_count": 4,
   "metadata": {},
   "outputs": [],
   "source": [
    "rt = ContractedRuleTransform(\n",
    "    shapelet_mining_contract=2,\n",
    "    rule_mining_contract=1,\n",
    "    min_shapelet_length=min_length,\n",
    "    max_shapelet_length=max_length,\n",
    "    verbose=0,\n",
    ")\n",
    "\n",
    "#Given the short mining contract, this example only uses the first two dimensions of the dataset\n",
    "rt.fit(X_train.iloc[:, 0:2], y_train)\n",
    "all_rules_counts = rt.transform(X_train.iloc[:, 0:2], test=False)\n",
    "all_rules_counts_test = rt.transform(X_test.iloc[:, 0:2], test=True)"
   ]
  },
  {
   "cell_type": "markdown",
   "metadata": {},
   "source": [
    "## Rule Visualization"
   ]
  },
  {
   "cell_type": "code",
   "execution_count": 16,
   "metadata": {},
   "outputs": [
    {
     "name": "stderr",
     "output_type": "stream",
     "text": [
      "/home/omar/anaconda3/lib/python3.7/site-packages/numpy/core/_asarray.py:83: VisibleDeprecationWarning: Creating an ndarray from ragged nested sequences (which is a list-or-tuple of lists-or-tuples-or ndarrays with different lengths or shapes) is deprecated. If you meant to do this, you must specify 'dtype=object' when creating the ndarray\n",
      "  return array(a, dtype, copy=False, order=order)\n"
     ]
    }
   ],
   "source": [
    "indices = get_indices(rt._transformer)"
   ]
  },
  {
   "cell_type": "code",
   "execution_count": 25,
   "metadata": {},
   "outputs": [],
   "source": [
    "dim_1, sh_1, dim_2, sh_2 = 0, 0, 1, 20\n",
    "idx_1, start_1, end_1 = indices[dim_1][sh_1]\n",
    "idx_2, start_2, end_2 = indices[dim_2][sh_2]"
   ]
  },
  {
   "cell_type": "code",
   "execution_count": 26,
   "metadata": {},
   "outputs": [],
   "source": [
    "from sktime_convert import from_nested_to_3d_numpy\n",
    "\n",
    "X_train_ = from_nested_to_3d_numpy(X_train)"
   ]
  },
  {
   "cell_type": "code",
   "execution_count": 27,
   "metadata": {},
   "outputs": [
    {
     "ename": "NameError",
     "evalue": "name 'plt' is not defined",
     "output_type": "error",
     "traceback": [
      "\u001b[0;31m---------------------------------------------------------------------------\u001b[0m",
      "\u001b[0;31mNameError\u001b[0m                                 Traceback (most recent call last)",
      "\u001b[0;32m<ipython-input-27-1c511a4b4a1b>\u001b[0m in \u001b[0;36m<module>\u001b[0;34m\u001b[0m\n\u001b[0;32m----> 1\u001b[0;31m \u001b[0mplt\u001b[0m\u001b[0;34m.\u001b[0m\u001b[0mfigure\u001b[0m\u001b[0;34m(\u001b[0m\u001b[0mfigsize\u001b[0m\u001b[0;34m=\u001b[0m\u001b[0;34m(\u001b[0m\u001b[0;36m12\u001b[0m\u001b[0;34m,\u001b[0m\u001b[0;36m8\u001b[0m\u001b[0;34m)\u001b[0m\u001b[0;34m)\u001b[0m\u001b[0;34m\u001b[0m\u001b[0;34m\u001b[0m\u001b[0m\n\u001b[0m\u001b[1;32m      2\u001b[0m \u001b[0;34m\u001b[0m\u001b[0m\n\u001b[1;32m      3\u001b[0m \u001b[0;34m\u001b[0m\u001b[0m\n\u001b[1;32m      4\u001b[0m plt.plot(X_train_[idx_1,dim_1], color='C{}'.format(0),\n\u001b[1;32m      5\u001b[0m           label='Shapelet: ' + str(dim_1) + ', Dim: ' + str(sh_1))\n",
      "\u001b[0;31mNameError\u001b[0m: name 'plt' is not defined"
     ]
    }
   ],
   "source": [
    "plt.figure(figsize=(12,8))\n",
    "\n",
    "\n",
    "plt.plot(X_train_[idx_1,dim_1], color='C{}'.format(0),\n",
    "          label='Shapelet: ' + str(dim_1) + ', Dim: ' + str(sh_1))\n",
    "plt.plot(np.arange(start_1, end_1), X_train_[idx_1, dim_1, start_1:end_1],\n",
    "          lw=5, color='C{}'.format(0))\n",
    "\n",
    "plt.plot(X_train_[idx_2,dim_2], color='C{}'.format(2),\n",
    "          label='Shapelet: ' + str(dim_2) + ', Dim: ' + str(sh_2))\n",
    "plt.plot(np.arange(start_2, end_2), X_train_[idx_2, dim_2, start_2:end_2],\n",
    "          lw=5, color='C{}'.format(2))\n",
    "\n",
    "plt.xlabel('Time', fontsize=12)\n",
    "plt.ylabel('Frequency', fontsize=12)\n",
    "plt.title(\"A precedes B\", fontsize=14)\n",
    "plt.legend(loc='best', fontsize=10)\n",
    "plt.show()"
   ]
  },
  {
   "cell_type": "markdown",
   "metadata": {},
   "source": [
    "## Rule Selection"
   ]
  },
  {
   "cell_type": "code",
   "execution_count": 5,
   "metadata": {},
   "outputs": [],
   "source": [
    "#Percentage of rules to keep\n",
    "percentage = 20\n",
    "\n",
    "top_k = int(all_rules_counts.shape[1]*percentage/100)"
   ]
  },
  {
   "cell_type": "code",
   "execution_count": 6,
   "metadata": {},
   "outputs": [],
   "source": [
    "#Indices of rules between inexistant shapelets (flagged -1 supports)\n",
    "to_delete = np.where(np.all(all_rules_counts==-1,axis=1))\n",
    "\n",
    "#Delete the -1 columns\n",
    "all_rules_counts = np.delete(all_rules_counts, to_delete, axis=0)\n",
    "all_rules_counts_test = np.delete(all_rules_counts_test, to_delete, axis=0)\n",
    "\n",
    " #Array to hold the support of each rule\n",
    "supports = np.zeros(all_rules_counts.shape[1], dtype=np.uint16)\n",
    "\n",
    "#Count and store the support of each rule\n",
    "for k in range(all_rules_counts.shape[1]):\n",
    "    supports[k]=all_rules_counts[:,k].sum()\n",
    "\n",
    "#Get indices of rules with highest support\n",
    "best_rules_indices = np.argsort(supports)[::-1][:top_k]\n",
    "\n",
    "#Get the best rules\n",
    "best_rules = all_rules_counts[:,best_rules_indices]\n",
    "best_rules_test = all_rules_counts_test[:,best_rules_indices] "
   ]
  },
  {
   "cell_type": "markdown",
   "metadata": {},
   "source": [
    "## Classification"
   ]
  },
  {
   "cell_type": "code",
   "execution_count": 7,
   "metadata": {},
   "outputs": [],
   "source": [
    "#Fit and Transform a Random Forest Classifier\n",
    "clf = RandomForestClassifier(random_state=0, n_estimators=500)\n",
    "clf.fit(best_rules, y_train)\n",
    "y_pred = clf.predict(best_rules_test)"
   ]
  },
  {
   "cell_type": "code",
   "execution_count": 8,
   "metadata": {},
   "outputs": [
    {
     "name": "stdout",
     "output_type": "stream",
     "text": [
      "The test accuracy is: 1.0\n"
     ]
    }
   ],
   "source": [
    "#Compute Test Accuracy\n",
    "print('The test accuracy is: ' + str(accuracy_score(y_test, y_pred)))"
   ]
  },
  {
   "cell_type": "markdown",
   "metadata": {},
   "source": [
    "# Rule Transform With Shapelet Clustering"
   ]
  },
  {
   "cell_type": "markdown",
   "metadata": {},
   "source": [
    "## Fit and Transform Dataset"
   ]
  },
  {
   "cell_type": "code",
   "execution_count": 9,
   "metadata": {},
   "outputs": [
    {
     "name": "stderr",
     "output_type": "stream",
     "text": [
      "/home/omar/anaconda3/lib/python3.7/site-packages/numpy/core/_asarray.py:83: VisibleDeprecationWarning: Creating an ndarray from ragged nested sequences (which is a list-or-tuple of lists-or-tuples-or ndarrays with different lengths or shapes) is deprecated. If you meant to do this, you must specify 'dtype=object' when creating the ndarray\n",
      "  return array(a, dtype, copy=False, order=order)\n"
     ]
    }
   ],
   "source": [
    "rt = ContractedRuleTransform(\n",
    "    shapelet_mining_contract=2,\n",
    "    rule_mining_contract=1,\n",
    "    min_shapelet_length=min_length,\n",
    "    max_shapelet_length=max_length,\n",
    "    verbose=0,\n",
    "    clustering_ratio=80\n",
    ")\n",
    "\n",
    "rt.fit(X_train.iloc[:, 0:2], y_train)\n",
    "all_rules_counts = rt.transform(X_train.iloc[:, 0:2], test=False)\n",
    "all_rules_counts_test = rt.transform(X_test.iloc[:, 0:2], test=True)"
   ]
  },
  {
   "cell_type": "markdown",
   "metadata": {},
   "source": [
    "## Classification"
   ]
  },
  {
   "cell_type": "code",
   "execution_count": 10,
   "metadata": {},
   "outputs": [
    {
     "name": "stdout",
     "output_type": "stream",
     "text": [
      "The test accuracy is: 0.95\n"
     ]
    }
   ],
   "source": [
    "#Fit and Transform a Random Forest Classifier\n",
    "clf = RandomForestClassifier(random_state=0, n_estimators=500)\n",
    "clf.fit(all_rules_counts, y_train)\n",
    "y_pred = clf.predict(all_rules_counts_test)\n",
    "\n",
    "#Compute Test Accuracy\n",
    "print('The test accuracy is: ' + str(accuracy_score(y_test, y_pred)))"
   ]
  },
  {
   "cell_type": "code",
   "execution_count": null,
   "metadata": {},
   "outputs": [],
   "source": []
  },
  {
   "cell_type": "code",
   "execution_count": null,
   "metadata": {},
   "outputs": [],
   "source": []
  }
 ],
 "metadata": {
  "kernelspec": {
   "display_name": "Python 3 (ipykernel)",
   "language": "python",
   "name": "python3"
  },
  "language_info": {
   "codemirror_mode": {
    "name": "ipython",
    "version": 3
   },
   "file_extension": ".py",
   "mimetype": "text/x-python",
   "name": "python",
   "nbconvert_exporter": "python",
   "pygments_lexer": "ipython3",
   "version": "3.7.6"
  }
 },
 "nbformat": 4,
 "nbformat_minor": 4
}
